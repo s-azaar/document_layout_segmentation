{
  "nbformat": 4,
  "nbformat_minor": 0,
  "metadata": {
    "colab": {
      "name": "Build YOLO Model.ipynb",
      "provenance": [],
      "collapsed_sections": [
        "ARmr0BDxpveU"
      ],
      "toc_visible": true
    },
    "kernelspec": {
      "name": "python3",
      "display_name": "Python 3"
    },
    "accelerator": "GPU",
    "widgets": {
      "application/vnd.jupyter.widget-state+json": {
        "e9a09defa0fa4ab886a93fed14fe67fd": {
          "model_module": "@jupyter-widgets/controls",
          "model_name": "HBoxModel",
          "state": {
            "_view_name": "HBoxView",
            "_dom_classes": [],
            "_model_name": "HBoxModel",
            "_view_module": "@jupyter-widgets/controls",
            "_model_module_version": "1.5.0",
            "_view_count": null,
            "_view_module_version": "1.5.0",
            "box_style": "",
            "layout": "IPY_MODEL_423f6991681f486ea4020cac31b5405e",
            "_model_module": "@jupyter-widgets/controls",
            "children": [
              "IPY_MODEL_03b2fe1e3e6e4456a9631120fd6049ec",
              "IPY_MODEL_a95b9c930e8345ffbd61e3c3aecf35a1"
            ]
          }
        },
        "423f6991681f486ea4020cac31b5405e": {
          "model_module": "@jupyter-widgets/base",
          "model_name": "LayoutModel",
          "state": {
            "_view_name": "LayoutView",
            "grid_template_rows": null,
            "right": null,
            "justify_content": null,
            "_view_module": "@jupyter-widgets/base",
            "overflow": null,
            "_model_module_version": "1.2.0",
            "_view_count": null,
            "flex_flow": null,
            "width": null,
            "min_width": null,
            "border": null,
            "align_items": null,
            "bottom": null,
            "_model_module": "@jupyter-widgets/base",
            "top": null,
            "grid_column": null,
            "overflow_y": null,
            "overflow_x": null,
            "grid_auto_flow": null,
            "grid_area": null,
            "grid_template_columns": null,
            "flex": null,
            "_model_name": "LayoutModel",
            "justify_items": null,
            "grid_row": null,
            "max_height": null,
            "align_content": null,
            "visibility": null,
            "align_self": null,
            "height": null,
            "min_height": null,
            "padding": null,
            "grid_auto_rows": null,
            "grid_gap": null,
            "max_width": null,
            "order": null,
            "_view_module_version": "1.2.0",
            "grid_template_areas": null,
            "object_position": null,
            "object_fit": null,
            "grid_auto_columns": null,
            "margin": null,
            "display": null,
            "left": null
          }
        },
        "03b2fe1e3e6e4456a9631120fd6049ec": {
          "model_module": "@jupyter-widgets/controls",
          "model_name": "FloatProgressModel",
          "state": {
            "_view_name": "ProgressView",
            "style": "IPY_MODEL_4500a17bed2047d6aefb8db33b022556",
            "_dom_classes": [],
            "description": "100%",
            "_model_name": "FloatProgressModel",
            "bar_style": "success",
            "max": 478,
            "_view_module": "@jupyter-widgets/controls",
            "_model_module_version": "1.5.0",
            "value": 478,
            "_view_count": null,
            "_view_module_version": "1.5.0",
            "orientation": "horizontal",
            "min": 0,
            "description_tooltip": null,
            "_model_module": "@jupyter-widgets/controls",
            "layout": "IPY_MODEL_9f12843d995b4bd782425dec60fc6c9d"
          }
        },
        "a95b9c930e8345ffbd61e3c3aecf35a1": {
          "model_module": "@jupyter-widgets/controls",
          "model_name": "HTMLModel",
          "state": {
            "_view_name": "HTMLView",
            "style": "IPY_MODEL_50d23c6e331b4d929e904e5699e870ff",
            "_dom_classes": [],
            "description": "",
            "_model_name": "HTMLModel",
            "placeholder": "​",
            "_view_module": "@jupyter-widgets/controls",
            "_model_module_version": "1.5.0",
            "value": " 478/478 [05:32&lt;00:00,  1.44it/s]",
            "_view_count": null,
            "_view_module_version": "1.5.0",
            "description_tooltip": null,
            "_model_module": "@jupyter-widgets/controls",
            "layout": "IPY_MODEL_53330e3a07c747998d299a1a72730072"
          }
        },
        "4500a17bed2047d6aefb8db33b022556": {
          "model_module": "@jupyter-widgets/controls",
          "model_name": "ProgressStyleModel",
          "state": {
            "_view_name": "StyleView",
            "_model_name": "ProgressStyleModel",
            "description_width": "initial",
            "_view_module": "@jupyter-widgets/base",
            "_model_module_version": "1.5.0",
            "_view_count": null,
            "_view_module_version": "1.2.0",
            "bar_color": null,
            "_model_module": "@jupyter-widgets/controls"
          }
        },
        "9f12843d995b4bd782425dec60fc6c9d": {
          "model_module": "@jupyter-widgets/base",
          "model_name": "LayoutModel",
          "state": {
            "_view_name": "LayoutView",
            "grid_template_rows": null,
            "right": null,
            "justify_content": null,
            "_view_module": "@jupyter-widgets/base",
            "overflow": null,
            "_model_module_version": "1.2.0",
            "_view_count": null,
            "flex_flow": null,
            "width": null,
            "min_width": null,
            "border": null,
            "align_items": null,
            "bottom": null,
            "_model_module": "@jupyter-widgets/base",
            "top": null,
            "grid_column": null,
            "overflow_y": null,
            "overflow_x": null,
            "grid_auto_flow": null,
            "grid_area": null,
            "grid_template_columns": null,
            "flex": null,
            "_model_name": "LayoutModel",
            "justify_items": null,
            "grid_row": null,
            "max_height": null,
            "align_content": null,
            "visibility": null,
            "align_self": null,
            "height": null,
            "min_height": null,
            "padding": null,
            "grid_auto_rows": null,
            "grid_gap": null,
            "max_width": null,
            "order": null,
            "_view_module_version": "1.2.0",
            "grid_template_areas": null,
            "object_position": null,
            "object_fit": null,
            "grid_auto_columns": null,
            "margin": null,
            "display": null,
            "left": null
          }
        },
        "50d23c6e331b4d929e904e5699e870ff": {
          "model_module": "@jupyter-widgets/controls",
          "model_name": "DescriptionStyleModel",
          "state": {
            "_view_name": "StyleView",
            "_model_name": "DescriptionStyleModel",
            "description_width": "",
            "_view_module": "@jupyter-widgets/base",
            "_model_module_version": "1.5.0",
            "_view_count": null,
            "_view_module_version": "1.2.0",
            "_model_module": "@jupyter-widgets/controls"
          }
        },
        "53330e3a07c747998d299a1a72730072": {
          "model_module": "@jupyter-widgets/base",
          "model_name": "LayoutModel",
          "state": {
            "_view_name": "LayoutView",
            "grid_template_rows": null,
            "right": null,
            "justify_content": null,
            "_view_module": "@jupyter-widgets/base",
            "overflow": null,
            "_model_module_version": "1.2.0",
            "_view_count": null,
            "flex_flow": null,
            "width": null,
            "min_width": null,
            "border": null,
            "align_items": null,
            "bottom": null,
            "_model_module": "@jupyter-widgets/base",
            "top": null,
            "grid_column": null,
            "overflow_y": null,
            "overflow_x": null,
            "grid_auto_flow": null,
            "grid_area": null,
            "grid_template_columns": null,
            "flex": null,
            "_model_name": "LayoutModel",
            "justify_items": null,
            "grid_row": null,
            "max_height": null,
            "align_content": null,
            "visibility": null,
            "align_self": null,
            "height": null,
            "min_height": null,
            "padding": null,
            "grid_auto_rows": null,
            "grid_gap": null,
            "max_width": null,
            "order": null,
            "_view_module_version": "1.2.0",
            "grid_template_areas": null,
            "object_position": null,
            "object_fit": null,
            "grid_auto_columns": null,
            "margin": null,
            "display": null,
            "left": null
          }
        },
        "fdd59876872d4aa7939feb4d57e67e5f": {
          "model_module": "@jupyter-widgets/controls",
          "model_name": "HBoxModel",
          "state": {
            "_view_name": "HBoxView",
            "_dom_classes": [],
            "_model_name": "HBoxModel",
            "_view_module": "@jupyter-widgets/controls",
            "_model_module_version": "1.5.0",
            "_view_count": null,
            "_view_module_version": "1.5.0",
            "box_style": "",
            "layout": "IPY_MODEL_4de39533609d47ad9d23e680b3c148c7",
            "_model_module": "@jupyter-widgets/controls",
            "children": [
              "IPY_MODEL_be05e16a909a4d7d9e57049e49ad116c",
              "IPY_MODEL_7c5b357d9c99416aaca14ea0ce3df7d9"
            ]
          }
        },
        "4de39533609d47ad9d23e680b3c148c7": {
          "model_module": "@jupyter-widgets/base",
          "model_name": "LayoutModel",
          "state": {
            "_view_name": "LayoutView",
            "grid_template_rows": null,
            "right": null,
            "justify_content": null,
            "_view_module": "@jupyter-widgets/base",
            "overflow": null,
            "_model_module_version": "1.2.0",
            "_view_count": null,
            "flex_flow": null,
            "width": null,
            "min_width": null,
            "border": null,
            "align_items": null,
            "bottom": null,
            "_model_module": "@jupyter-widgets/base",
            "top": null,
            "grid_column": null,
            "overflow_y": null,
            "overflow_x": null,
            "grid_auto_flow": null,
            "grid_area": null,
            "grid_template_columns": null,
            "flex": null,
            "_model_name": "LayoutModel",
            "justify_items": null,
            "grid_row": null,
            "max_height": null,
            "align_content": null,
            "visibility": null,
            "align_self": null,
            "height": null,
            "min_height": null,
            "padding": null,
            "grid_auto_rows": null,
            "grid_gap": null,
            "max_width": null,
            "order": null,
            "_view_module_version": "1.2.0",
            "grid_template_areas": null,
            "object_position": null,
            "object_fit": null,
            "grid_auto_columns": null,
            "margin": null,
            "display": null,
            "left": null
          }
        },
        "be05e16a909a4d7d9e57049e49ad116c": {
          "model_module": "@jupyter-widgets/controls",
          "model_name": "FloatProgressModel",
          "state": {
            "_view_name": "ProgressView",
            "style": "IPY_MODEL_69123477260344db8383092c9b3fb426",
            "_dom_classes": [],
            "description": "100%",
            "_model_name": "FloatProgressModel",
            "bar_style": "success",
            "max": 478,
            "_view_module": "@jupyter-widgets/controls",
            "_model_module_version": "1.5.0",
            "value": 478,
            "_view_count": null,
            "_view_module_version": "1.5.0",
            "orientation": "horizontal",
            "min": 0,
            "description_tooltip": null,
            "_model_module": "@jupyter-widgets/controls",
            "layout": "IPY_MODEL_0e9d5fdc9c5f4447ae150021ba91b33c"
          }
        },
        "7c5b357d9c99416aaca14ea0ce3df7d9": {
          "model_module": "@jupyter-widgets/controls",
          "model_name": "HTMLModel",
          "state": {
            "_view_name": "HTMLView",
            "style": "IPY_MODEL_4a7dbe427a784f4087bf32d6f689ece0",
            "_dom_classes": [],
            "description": "",
            "_model_name": "HTMLModel",
            "placeholder": "​",
            "_view_module": "@jupyter-widgets/controls",
            "_model_module_version": "1.5.0",
            "value": " 478/478 [06:07&lt;00:00,  1.30it/s]",
            "_view_count": null,
            "_view_module_version": "1.5.0",
            "description_tooltip": null,
            "_model_module": "@jupyter-widgets/controls",
            "layout": "IPY_MODEL_f7a537d6da54412a86b681eedfce5cac"
          }
        },
        "69123477260344db8383092c9b3fb426": {
          "model_module": "@jupyter-widgets/controls",
          "model_name": "ProgressStyleModel",
          "state": {
            "_view_name": "StyleView",
            "_model_name": "ProgressStyleModel",
            "description_width": "initial",
            "_view_module": "@jupyter-widgets/base",
            "_model_module_version": "1.5.0",
            "_view_count": null,
            "_view_module_version": "1.2.0",
            "bar_color": null,
            "_model_module": "@jupyter-widgets/controls"
          }
        },
        "0e9d5fdc9c5f4447ae150021ba91b33c": {
          "model_module": "@jupyter-widgets/base",
          "model_name": "LayoutModel",
          "state": {
            "_view_name": "LayoutView",
            "grid_template_rows": null,
            "right": null,
            "justify_content": null,
            "_view_module": "@jupyter-widgets/base",
            "overflow": null,
            "_model_module_version": "1.2.0",
            "_view_count": null,
            "flex_flow": null,
            "width": null,
            "min_width": null,
            "border": null,
            "align_items": null,
            "bottom": null,
            "_model_module": "@jupyter-widgets/base",
            "top": null,
            "grid_column": null,
            "overflow_y": null,
            "overflow_x": null,
            "grid_auto_flow": null,
            "grid_area": null,
            "grid_template_columns": null,
            "flex": null,
            "_model_name": "LayoutModel",
            "justify_items": null,
            "grid_row": null,
            "max_height": null,
            "align_content": null,
            "visibility": null,
            "align_self": null,
            "height": null,
            "min_height": null,
            "padding": null,
            "grid_auto_rows": null,
            "grid_gap": null,
            "max_width": null,
            "order": null,
            "_view_module_version": "1.2.0",
            "grid_template_areas": null,
            "object_position": null,
            "object_fit": null,
            "grid_auto_columns": null,
            "margin": null,
            "display": null,
            "left": null
          }
        },
        "4a7dbe427a784f4087bf32d6f689ece0": {
          "model_module": "@jupyter-widgets/controls",
          "model_name": "DescriptionStyleModel",
          "state": {
            "_view_name": "StyleView",
            "_model_name": "DescriptionStyleModel",
            "description_width": "",
            "_view_module": "@jupyter-widgets/base",
            "_model_module_version": "1.5.0",
            "_view_count": null,
            "_view_module_version": "1.2.0",
            "_model_module": "@jupyter-widgets/controls"
          }
        },
        "f7a537d6da54412a86b681eedfce5cac": {
          "model_module": "@jupyter-widgets/base",
          "model_name": "LayoutModel",
          "state": {
            "_view_name": "LayoutView",
            "grid_template_rows": null,
            "right": null,
            "justify_content": null,
            "_view_module": "@jupyter-widgets/base",
            "overflow": null,
            "_model_module_version": "1.2.0",
            "_view_count": null,
            "flex_flow": null,
            "width": null,
            "min_width": null,
            "border": null,
            "align_items": null,
            "bottom": null,
            "_model_module": "@jupyter-widgets/base",
            "top": null,
            "grid_column": null,
            "overflow_y": null,
            "overflow_x": null,
            "grid_auto_flow": null,
            "grid_area": null,
            "grid_template_columns": null,
            "flex": null,
            "_model_name": "LayoutModel",
            "justify_items": null,
            "grid_row": null,
            "max_height": null,
            "align_content": null,
            "visibility": null,
            "align_self": null,
            "height": null,
            "min_height": null,
            "padding": null,
            "grid_auto_rows": null,
            "grid_gap": null,
            "max_width": null,
            "order": null,
            "_view_module_version": "1.2.0",
            "grid_template_areas": null,
            "object_position": null,
            "object_fit": null,
            "grid_auto_columns": null,
            "margin": null,
            "display": null,
            "left": null
          }
        },
        "035a0ace5600488eb353be583e0ec126": {
          "model_module": "@jupyter-widgets/controls",
          "model_name": "HBoxModel",
          "state": {
            "_view_name": "HBoxView",
            "_dom_classes": [],
            "_model_name": "HBoxModel",
            "_view_module": "@jupyter-widgets/controls",
            "_model_module_version": "1.5.0",
            "_view_count": null,
            "_view_module_version": "1.5.0",
            "box_style": "",
            "layout": "IPY_MODEL_9dd280c9bd604bc283c6221da693ba08",
            "_model_module": "@jupyter-widgets/controls",
            "children": [
              "IPY_MODEL_8e373674254f492fbb86b4108fa9f00a",
              "IPY_MODEL_df1ef268569e4502b4d20afbcb661f33"
            ]
          }
        },
        "9dd280c9bd604bc283c6221da693ba08": {
          "model_module": "@jupyter-widgets/base",
          "model_name": "LayoutModel",
          "state": {
            "_view_name": "LayoutView",
            "grid_template_rows": null,
            "right": null,
            "justify_content": null,
            "_view_module": "@jupyter-widgets/base",
            "overflow": null,
            "_model_module_version": "1.2.0",
            "_view_count": null,
            "flex_flow": null,
            "width": null,
            "min_width": null,
            "border": null,
            "align_items": null,
            "bottom": null,
            "_model_module": "@jupyter-widgets/base",
            "top": null,
            "grid_column": null,
            "overflow_y": null,
            "overflow_x": null,
            "grid_auto_flow": null,
            "grid_area": null,
            "grid_template_columns": null,
            "flex": null,
            "_model_name": "LayoutModel",
            "justify_items": null,
            "grid_row": null,
            "max_height": null,
            "align_content": null,
            "visibility": null,
            "align_self": null,
            "height": null,
            "min_height": null,
            "padding": null,
            "grid_auto_rows": null,
            "grid_gap": null,
            "max_width": null,
            "order": null,
            "_view_module_version": "1.2.0",
            "grid_template_areas": null,
            "object_position": null,
            "object_fit": null,
            "grid_auto_columns": null,
            "margin": null,
            "display": null,
            "left": null
          }
        },
        "8e373674254f492fbb86b4108fa9f00a": {
          "model_module": "@jupyter-widgets/controls",
          "model_name": "FloatProgressModel",
          "state": {
            "_view_name": "ProgressView",
            "style": "IPY_MODEL_96d6d700422b4dbfad973a2ff8679160",
            "_dom_classes": [],
            "description": "100%",
            "_model_name": "FloatProgressModel",
            "bar_style": "success",
            "max": 478,
            "_view_module": "@jupyter-widgets/controls",
            "_model_module_version": "1.5.0",
            "value": 478,
            "_view_count": null,
            "_view_module_version": "1.5.0",
            "orientation": "horizontal",
            "min": 0,
            "description_tooltip": null,
            "_model_module": "@jupyter-widgets/controls",
            "layout": "IPY_MODEL_c29a4ef698594a598fd2a4d49aeb2c3b"
          }
        },
        "df1ef268569e4502b4d20afbcb661f33": {
          "model_module": "@jupyter-widgets/controls",
          "model_name": "HTMLModel",
          "state": {
            "_view_name": "HTMLView",
            "style": "IPY_MODEL_9cdb43cc57b24f2ca1aa212d2530c161",
            "_dom_classes": [],
            "description": "",
            "_model_name": "HTMLModel",
            "placeholder": "​",
            "_view_module": "@jupyter-widgets/controls",
            "_model_module_version": "1.5.0",
            "value": " 478/478 [06:02&lt;00:00,  1.32it/s]",
            "_view_count": null,
            "_view_module_version": "1.5.0",
            "description_tooltip": null,
            "_model_module": "@jupyter-widgets/controls",
            "layout": "IPY_MODEL_b39b340ba17b40ebaef8bf818b7249cf"
          }
        },
        "96d6d700422b4dbfad973a2ff8679160": {
          "model_module": "@jupyter-widgets/controls",
          "model_name": "ProgressStyleModel",
          "state": {
            "_view_name": "StyleView",
            "_model_name": "ProgressStyleModel",
            "description_width": "initial",
            "_view_module": "@jupyter-widgets/base",
            "_model_module_version": "1.5.0",
            "_view_count": null,
            "_view_module_version": "1.2.0",
            "bar_color": null,
            "_model_module": "@jupyter-widgets/controls"
          }
        },
        "c29a4ef698594a598fd2a4d49aeb2c3b": {
          "model_module": "@jupyter-widgets/base",
          "model_name": "LayoutModel",
          "state": {
            "_view_name": "LayoutView",
            "grid_template_rows": null,
            "right": null,
            "justify_content": null,
            "_view_module": "@jupyter-widgets/base",
            "overflow": null,
            "_model_module_version": "1.2.0",
            "_view_count": null,
            "flex_flow": null,
            "width": null,
            "min_width": null,
            "border": null,
            "align_items": null,
            "bottom": null,
            "_model_module": "@jupyter-widgets/base",
            "top": null,
            "grid_column": null,
            "overflow_y": null,
            "overflow_x": null,
            "grid_auto_flow": null,
            "grid_area": null,
            "grid_template_columns": null,
            "flex": null,
            "_model_name": "LayoutModel",
            "justify_items": null,
            "grid_row": null,
            "max_height": null,
            "align_content": null,
            "visibility": null,
            "align_self": null,
            "height": null,
            "min_height": null,
            "padding": null,
            "grid_auto_rows": null,
            "grid_gap": null,
            "max_width": null,
            "order": null,
            "_view_module_version": "1.2.0",
            "grid_template_areas": null,
            "object_position": null,
            "object_fit": null,
            "grid_auto_columns": null,
            "margin": null,
            "display": null,
            "left": null
          }
        },
        "9cdb43cc57b24f2ca1aa212d2530c161": {
          "model_module": "@jupyter-widgets/controls",
          "model_name": "DescriptionStyleModel",
          "state": {
            "_view_name": "StyleView",
            "_model_name": "DescriptionStyleModel",
            "description_width": "",
            "_view_module": "@jupyter-widgets/base",
            "_model_module_version": "1.5.0",
            "_view_count": null,
            "_view_module_version": "1.2.0",
            "_model_module": "@jupyter-widgets/controls"
          }
        },
        "b39b340ba17b40ebaef8bf818b7249cf": {
          "model_module": "@jupyter-widgets/base",
          "model_name": "LayoutModel",
          "state": {
            "_view_name": "LayoutView",
            "grid_template_rows": null,
            "right": null,
            "justify_content": null,
            "_view_module": "@jupyter-widgets/base",
            "overflow": null,
            "_model_module_version": "1.2.0",
            "_view_count": null,
            "flex_flow": null,
            "width": null,
            "min_width": null,
            "border": null,
            "align_items": null,
            "bottom": null,
            "_model_module": "@jupyter-widgets/base",
            "top": null,
            "grid_column": null,
            "overflow_y": null,
            "overflow_x": null,
            "grid_auto_flow": null,
            "grid_area": null,
            "grid_template_columns": null,
            "flex": null,
            "_model_name": "LayoutModel",
            "justify_items": null,
            "grid_row": null,
            "max_height": null,
            "align_content": null,
            "visibility": null,
            "align_self": null,
            "height": null,
            "min_height": null,
            "padding": null,
            "grid_auto_rows": null,
            "grid_gap": null,
            "max_width": null,
            "order": null,
            "_view_module_version": "1.2.0",
            "grid_template_areas": null,
            "object_position": null,
            "object_fit": null,
            "grid_auto_columns": null,
            "margin": null,
            "display": null,
            "left": null
          }
        }
      }
    }
  },
  "cells": [
    {
      "cell_type": "markdown",
      "metadata": {
        "id": "4KzP2LvVhVqo"
      },
      "source": [
        "<a href=\"https://github.com/s-azaar/document_layout_segmentation\" target=\"_parent\"><img src=\"https://img.icons8.com/color/2x/github-2.png\" alt=\"Open In GITHUB\"/><p>Open using GitHub</p></a>\n"
      ]
    },
    {
      "cell_type": "markdown",
      "metadata": {
        "id": "IHvcqtGgZK6f"
      },
      "source": [
        "# Table of Contents\n",
        "\n"
      ]
    },
    {
      "cell_type": "markdown",
      "metadata": {
        "id": "iUMw1pShYlWZ"
      },
      "source": [
        "**1. Installation Instructions**"
      ]
    },
    {
      "cell_type": "markdown",
      "metadata": {
        "id": "BZnrbD-7YqdY"
      },
      "source": [
        "  **2.   Data Preprocessing**"
      ]
    },
    {
      "cell_type": "markdown",
      "metadata": {
        "id": "_mSH5fYmYvPH"
      },
      "source": [
        "**3. Model Building**"
      ]
    },
    {
      "cell_type": "markdown",
      "metadata": {
        "id": "ARmr0BDxpveU"
      },
      "source": [
        "# Installation Instructions \n"
      ]
    },
    {
      "cell_type": "markdown",
      "metadata": {
        "id": "tHdr9XI_Svf5"
      },
      "source": [
        "1.   **Clone** our GitHub repository\n"
      ]
    },
    {
      "cell_type": "code",
      "metadata": {
        "id": "8TUTsPjTRYFV",
        "colab": {
          "base_uri": "https://localhost:8080/"
        },
        "outputId": "67c39eb6-1ce3-4c82-898c-285adf96c91f"
      },
      "source": [
        "! git clone https://github.com/saleembilal-S/document_layout_segmentation.git"
      ],
      "execution_count": 1,
      "outputs": [
        {
          "output_type": "stream",
          "text": [
            "Cloning into 'document_layout_segmentation'...\n",
            "remote: Enumerating objects: 63, done.\u001b[K\n",
            "remote: Counting objects: 100% (63/63), done.\u001b[K\n",
            "remote: Compressing objects: 100% (55/55), done.\u001b[K\n",
            "remote: Total 63 (delta 9), reused 60 (delta 7), pack-reused 0\u001b[K\n",
            "Unpacking objects: 100% (63/63), done.\n"
          ],
          "name": "stdout"
        }
      ]
    },
    {
      "cell_type": "markdown",
      "metadata": {
        "id": "NZAHHcsrS4cU"
      },
      "source": [
        "2.   **Download** the requirements of yolov3\n",
        "\n"
      ]
    },
    {
      "cell_type": "code",
      "metadata": {
        "id": "NymLtTTETBUX"
      },
      "source": [
        "! cd document_layout_segmentation/yolov3/installation && cat requirements_colab.txt | xargs -n 1 -L 1 pip install\n",
        "\n",
        "https://drive.google.com/file/d/1i9POIJOcz3TpOmaeMcCukqWAFOcMMLmO/view?usp=sharing"
      ],
      "execution_count": null,
      "outputs": []
    },
    {
      "cell_type": "markdown",
      "metadata": {
        "id": "mnfirKizTJg7"
      },
      "source": [
        "3.  **Download** PRImA dataset\n"
      ]
    },
    {
      "cell_type": "code",
      "metadata": {
        "id": "DgBFOQ0-TLFS",
        "colab": {
          "base_uri": "https://localhost:8080/"
        },
        "outputId": "cbb4b5b0-06e5-4a51-e703-6b3bdf55adfe"
      },
      "source": [
        "! wget --load-cookies /tmp/cookies.txt \"https://docs.google.com/uc?export=download&confirm=$(wget --quiet --save-cookies /tmp/cookies.txt --keep-session-cookies --no-check-certificate 'https://docs.google.com/uc?export=download&id=1i9POIJOcz3TpOmaeMcCukqWAFOcMMLmO' -O- | sed -rn 's/.*confirm=([0-9A-Za-z_]+).*/\\1\\n/p')&id=1i9POIJOcz3TpOmaeMcCukqWAFOcMMLmO\" -O PRImA_Layout_Analysis_Dataset.zip && rm -rf /tmp/cookies.txt\n"
      ],
      "execution_count": 1,
      "outputs": [
        {
          "output_type": "stream",
          "text": [
            "--2020-11-30 22:02:47--  https://docs.google.com/uc?export=download&confirm=hmzZ&id=1i9POIJOcz3TpOmaeMcCukqWAFOcMMLmO\n",
            "Resolving docs.google.com (docs.google.com)... 172.217.164.142, 2607:f8b0:4004:814::200e\n",
            "Connecting to docs.google.com (docs.google.com)|172.217.164.142|:443... connected.\n",
            "HTTP request sent, awaiting response... 302 Moved Temporarily\n",
            "Location: https://doc-0s-24-docs.googleusercontent.com/docs/securesc/bmu5ugclaist950j5v0nm1ho4fupt3jl/9pskelbrsjrf0n7597e8b5h053fhd77b/1606773750000/04573370379016730842/14308130243757539325Z/1i9POIJOcz3TpOmaeMcCukqWAFOcMMLmO?e=download [following]\n",
            "--2020-11-30 22:02:47--  https://doc-0s-24-docs.googleusercontent.com/docs/securesc/bmu5ugclaist950j5v0nm1ho4fupt3jl/9pskelbrsjrf0n7597e8b5h053fhd77b/1606773750000/04573370379016730842/14308130243757539325Z/1i9POIJOcz3TpOmaeMcCukqWAFOcMMLmO?e=download\n",
            "Resolving doc-0s-24-docs.googleusercontent.com (doc-0s-24-docs.googleusercontent.com)... 172.217.7.225, 2607:f8b0:4004:802::2001\n",
            "Connecting to doc-0s-24-docs.googleusercontent.com (doc-0s-24-docs.googleusercontent.com)|172.217.7.225|:443... connected.\n",
            "HTTP request sent, awaiting response... 302 Found\n",
            "Location: https://docs.google.com/nonceSigner?nonce=ruc5tf52giddo&continue=https://doc-0s-24-docs.googleusercontent.com/docs/securesc/bmu5ugclaist950j5v0nm1ho4fupt3jl/9pskelbrsjrf0n7597e8b5h053fhd77b/1606773750000/04573370379016730842/14308130243757539325Z/1i9POIJOcz3TpOmaeMcCukqWAFOcMMLmO?e%3Ddownload&hash=tj8qgbfigkgkktdentogbb7uiuik5e1f [following]\n",
            "--2020-11-30 22:02:47--  https://docs.google.com/nonceSigner?nonce=ruc5tf52giddo&continue=https://doc-0s-24-docs.googleusercontent.com/docs/securesc/bmu5ugclaist950j5v0nm1ho4fupt3jl/9pskelbrsjrf0n7597e8b5h053fhd77b/1606773750000/04573370379016730842/14308130243757539325Z/1i9POIJOcz3TpOmaeMcCukqWAFOcMMLmO?e%3Ddownload&hash=tj8qgbfigkgkktdentogbb7uiuik5e1f\n",
            "Connecting to docs.google.com (docs.google.com)|172.217.164.142|:443... connected.\n",
            "HTTP request sent, awaiting response... 302 Found\n",
            "Location: https://doc-0s-24-docs.googleusercontent.com/docs/securesc/bmu5ugclaist950j5v0nm1ho4fupt3jl/9pskelbrsjrf0n7597e8b5h053fhd77b/1606773750000/04573370379016730842/14308130243757539325Z/1i9POIJOcz3TpOmaeMcCukqWAFOcMMLmO?e=download&nonce=ruc5tf52giddo&user=14308130243757539325Z&hash=91pdgt1dskh9q8358skanl9o525j9m3g [following]\n",
            "--2020-11-30 22:02:47--  https://doc-0s-24-docs.googleusercontent.com/docs/securesc/bmu5ugclaist950j5v0nm1ho4fupt3jl/9pskelbrsjrf0n7597e8b5h053fhd77b/1606773750000/04573370379016730842/14308130243757539325Z/1i9POIJOcz3TpOmaeMcCukqWAFOcMMLmO?e=download&nonce=ruc5tf52giddo&user=14308130243757539325Z&hash=91pdgt1dskh9q8358skanl9o525j9m3g\n",
            "Connecting to doc-0s-24-docs.googleusercontent.com (doc-0s-24-docs.googleusercontent.com)|172.217.7.225|:443... connected.\n",
            "HTTP request sent, awaiting response... 200 OK\n",
            "Length: unspecified [application/x-zip-compressed]\n",
            "Saving to: ‘PRImA_Layout_Analysis_Dataset.zip’\n",
            "\n",
            "PRImA_Layout_Analys     [              <=>   ]   2.73G  71.0MB/s    in 45s     \n",
            "\n",
            "2020-11-30 22:03:32 (62.6 MB/s) - ‘PRImA_Layout_Analysis_Dataset.zip’ saved [2932014876]\n",
            "\n"
          ],
          "name": "stdout"
        }
      ]
    },
    {
      "cell_type": "markdown",
      "metadata": {
        "id": "dlSPA7Z1cn8K"
      },
      "source": [
        "# Data Preprocessing"
      ]
    },
    {
      "cell_type": "markdown",
      "metadata": {
        "id": "kCbBVzxbUrEh"
      },
      "source": [
        "1. **Unzip** the PRImA dataset."
      ]
    },
    {
      "cell_type": "code",
      "metadata": {
        "id": "1l0IxxBEUuAX"
      },
      "source": [
        "! unzip -qq PRImA_Layout_Analysis_Dataset.zip"
      ],
      "execution_count": 4,
      "outputs": []
    },
    {
      "cell_type": "markdown",
      "metadata": {
        "id": "-Yrd_fWeczt6"
      },
      "source": [
        "\n",
        "2.   **Convert** all of the images in the dataset from **TIFF** format to **JPEG** format because of their huge size  **-from 10GB to 1GB-** and also to reduce the training time.\n",
        "\n"
      ]
    },
    {
      "cell_type": "code",
      "metadata": {
        "id": "8VtYcbOkiBNb"
      },
      "source": [
        "# Download the requirements of the conversion process\n",
        "! pip install wand\n",
        "! apt install imagemagick"
      ],
      "execution_count": null,
      "outputs": []
    },
    {
      "cell_type": "code",
      "metadata": {
        "id": "gFraUu2GefDd"
      },
      "source": [
        "# Import the necessary libraries \n",
        "import glob\n",
        "from wand.image import Image\n",
        "import os\n",
        "from tqdm.notebook import tqdm"
      ],
      "execution_count": 6,
      "outputs": []
    },
    {
      "cell_type": "code",
      "metadata": {
        "id": "1VnrGS4ojQLH"
      },
      "source": [
        "# Added files directory\n",
        "dataset_dir = \"PRImA Layout Analysis Dataset/\";\n",
        "ttif_dir_image = \"Images/\";\n",
        "jpg_dir_image = \"Images/\"\n",
        "jpg_dir=\"PRImA Layout Analysis Dataset_JPG_v1/\";"
      ],
      "execution_count": 7,
      "outputs": []
    },
    {
      "cell_type": "code",
      "metadata": {
        "id": "8SpnTNEmiuQf",
        "colab": {
          "base_uri": "https://localhost:8080/",
          "height": 120,
          "referenced_widgets": [
            "e9a09defa0fa4ab886a93fed14fe67fd",
            "423f6991681f486ea4020cac31b5405e",
            "03b2fe1e3e6e4456a9631120fd6049ec",
            "a95b9c930e8345ffbd61e3c3aecf35a1",
            "4500a17bed2047d6aefb8db33b022556",
            "9f12843d995b4bd782425dec60fc6c9d",
            "50d23c6e331b4d929e904e5699e870ff",
            "53330e3a07c747998d299a1a72730072"
          ]
        },
        "outputId": "b243e965-7523-4864-8ce5-10d135508752"
      },
      "source": [
        "# Run conversion process\n",
        "\n",
        "if not os.path.exists(jpg_dir):\n",
        "    os.makedirs(jpg_dir)\n",
        "\n",
        "if not os.path.exists(jpg_dir+jpg_dir_image):\n",
        "    os.makedirs(jpg_dir+jpg_dir_image)\n",
        "\n",
        "for name in tqdm(glob.glob(dataset_dir+ttif_dir_image+'*.tif')):\n",
        "    with Image(filename=name) as img:\n",
        "        img.format = 'jpeg'\n",
        "        name = name.split(\".\")\n",
        "        name = name[0].split(\"/\")\n",
        "        img.save(filename=jpg_dir+jpg_dir_image+name[2]+'.jpg')\n"
      ],
      "execution_count": 8,
      "outputs": [
        {
          "output_type": "display_data",
          "data": {
            "application/vnd.jupyter.widget-view+json": {
              "model_id": "e9a09defa0fa4ab886a93fed14fe67fd",
              "version_minor": 0,
              "version_major": 2
            },
            "text/plain": [
              "HBox(children=(FloatProgress(value=0.0, max=478.0), HTML(value='')))"
            ]
          },
          "metadata": {
            "tags": []
          }
        },
        {
          "output_type": "stream",
          "text": [
            "/usr/local/lib/python3.6/dist-packages/wand/image.py:9094: CoderWarning: Unknown field with tag 59932 (0xea1c) encountered. `TIFFReadDirectory' @ warning/tiff.c/TIFFWarnings/912\n",
            "  self.raise_exception()\n"
          ],
          "name": "stderr"
        },
        {
          "output_type": "stream",
          "text": [
            "\n"
          ],
          "name": "stdout"
        }
      ]
    },
    {
      "cell_type": "markdown",
      "metadata": {
        "id": "_xQNzjswVVpP"
      },
      "source": [
        "3. **Convert** the dataset formt from **VOC Pascal** formt to **YOLO** format"
      ]
    },
    {
      "cell_type": "code",
      "metadata": {
        "id": "6NRfwO-BoDKW"
      },
      "source": [
        "# Import the necessery libraries\n",
        "import os\n",
        "import sys\n",
        "import cv2\n",
        "import numpy as np\n",
        "import pandas as pd\n",
        "from PIL import Image\n",
        "import glob\n",
        "import matplotlib.pyplot as plt\n",
        "import xmltodict\n",
        "import json\n",
        "from tqdm.notebook import tqdm\n",
        "from pycocotools.coco import COCO"
      ],
      "execution_count": 9,
      "outputs": []
    },
    {
      "cell_type": "code",
      "metadata": {
        "id": "psi63TMt_rtL"
      },
      "source": [
        "# Added files directory\n",
        "dataset_dir = \"PRImA Layout Analysis Dataset/\";\n",
        "xml_dir = \"XML/\";\n",
        "jpg_dir=\"PRImA Layout Analysis Dataset_JPG_v1/\";\n"
      ],
      "execution_count": 10,
      "outputs": []
    },
    {
      "cell_type": "code",
      "metadata": {
        "scrolled": true,
        "id": "_2YloQzVoDKX",
        "colab": {
          "base_uri": "https://localhost:8080/",
          "height": 103,
          "referenced_widgets": [
            "fdd59876872d4aa7939feb4d57e67e5f",
            "4de39533609d47ad9d23e680b3c148c7",
            "be05e16a909a4d7d9e57049e49ad116c",
            "7c5b357d9c99416aaca14ea0ce3df7d9",
            "69123477260344db8383092c9b3fb426",
            "0e9d5fdc9c5f4447ae150021ba91b33c",
            "4a7dbe427a784f4087bf32d6f689ece0",
            "f7a537d6da54412a86b681eedfce5cac"
          ]
        },
        "outputId": "e363b003-dded-4ecc-aa23-3e1ee49d35db"
      },
      "source": [
        "\n",
        "combined = [];\n",
        "files = os.listdir(dataset_dir + xml_dir);\n",
        "\n",
        "#label generation for csv\n",
        "for i in tqdm(range(len(files))):\n",
        "    annoFile = dataset_dir + xml_dir + files[i];\n",
        "    f = open(annoFile, 'r');\n",
        "    my_xml = f.read();\n",
        "\n",
        "    anno= dict(dict(dict(xmltodict.parse(my_xml))['PcGts'])['Page'])\n",
        "    \n",
        "    wordd= \"00001178\"\n",
        "    fnamee=\"\"\n",
        "    fname=\"\"\n",
        "    fname=files[i].split(\".\")[0]\n",
        "    word = \"pc-\"                        \n",
        "    if word in fname: \n",
        "      fname =fname.replace(word,\"\")\n",
        "    fnamee=fname\n",
        "    fname+=\".jpg\"\n",
        "\n",
        "    width=int(anno['@imageWidth'])\n",
        "    height=int(anno['@imageHeight'])\n",
        "\n",
        "    label_str = \"\"\n",
        "\n",
        "    for key in anno.keys():\n",
        "        if(key=='@imageFilename' or key=='@imageWidth' or key=='@imageHeight'):\n",
        "            continue\n",
        "        if(key==\"TextRegion\"):\n",
        "            if(type(anno[\"TextRegion\"]) == list):\n",
        "                for j in range(len(anno[\"TextRegion\"])):\n",
        "                    text=anno[\"TextRegion\"][j]\n",
        "                    xmin=width\n",
        "                    ymin=height\n",
        "                    xmax=0\n",
        "                    ymax=0\n",
        "                    if(text[\"Coords\"]):\n",
        "                        if(text[\"Coords\"][\"Point\"]):\n",
        "                            for k in range(len(text[\"Coords\"][\"Point\"])):\n",
        "                                coordinates=anno[\"TextRegion\"][j][\"Coords\"][\"Point\"][k]\n",
        "                                xmin= min(xmin, int(coordinates['@x']));\n",
        "                                ymin= min(ymin, int(coordinates['@y']));\n",
        "                                xmax= min(max(xmax, int(coordinates['@x'])), width);\n",
        "                                ymax= min(max(ymax, int(coordinates['@y'])), height);\n",
        "                            if('@type' in text.keys()):    \n",
        "                                label_str+= str(xmin)+' '+str(ymin)+' '+str(xmax)+' '+str(ymax)+' '+text['@type']+' '\n",
        "                              \n",
        "            else:             \n",
        "                text=anno[\"TextRegion\"]\n",
        "                xmin=width\n",
        "                ymin=height\n",
        "                xmax=0\n",
        "                ymax=0\n",
        "                if(text[\"Coords\"]):\n",
        "                    if(text[\"Coords\"][\"Point\"]):\n",
        "                        for k in range(len(text[\"Coords\"][\"Point\"])):\n",
        "                            coordinates=anno[\"TextRegion\"][\"Coords\"][\"Point\"][k]\n",
        "                            xmin= min(xmin, int(coordinates['@x']));\n",
        "                            ymin= min(ymin, int(coordinates['@y']));\n",
        "                            xmax= min(max(xmax, int(coordinates['@x'])), width);\n",
        "                            ymax= min(max(ymax, int(coordinates['@y'])), height);\n",
        "                        if('@type' in text.keys()):    \n",
        "                            label_str+= str(xmin)+' '+str(ymin)+' '+str(xmax)+' '+str(ymax)+' '+text['@type']+' '\n",
        "                            \n",
        "        \n",
        "        else:\n",
        "            val=\"\"\n",
        "            if(key=='GraphicRegion'):\n",
        "                val=\"graphics\"\n",
        "            elif(key=='ImageRegion'):\n",
        "                val=\"image\"\n",
        "            elif(key=='NoiseRegion'):\n",
        "                val=\"noise\"\n",
        "            elif(key=='ChartRegion'):\n",
        "                val=\"chart\"\n",
        "            elif(key=='TableRegion'):\n",
        "                val=\"table\"\n",
        "            elif(key=='SeparatorRegion'):\n",
        "                val=\"separator\"\n",
        "            elif(key=='MathsRegion'):\n",
        "                val=\"maths\"\n",
        "            elif(key=='LineDrawingRegion'):\n",
        "                val=\"linedrawing\"\n",
        "            else:\n",
        "                val=\"frame\"\n",
        "\n",
        "           \n",
        "            if(type(anno[key]) == list):  \n",
        "                #print(fname,anno[key])   \n",
        "                if(fnamee == wordd):\n",
        "                    print(anno[key]) \n",
        "                for j in range(len(anno[key])):\n",
        "                    text=anno[key][j]\n",
        "                    xmin=width\n",
        "                    ymin=height\n",
        "                    xmax=0\n",
        "                    ymax=0\n",
        "                    if(text[\"Coords\"]):\n",
        "                        if(text[\"Coords\"][\"Point\"]):\n",
        "                            for k in range(len(text[\"Coords\"][\"Point\"])):\n",
        "                                coordinates=anno[key][j][\"Coords\"][\"Point\"][k]\n",
        "                                xmin= min(xmin, int(coordinates['@x']));\n",
        "                                ymin= min(ymin, int(coordinates['@y']));\n",
        "                                xmax= min(max(xmax, int(coordinates['@x'])), width);\n",
        "                                ymax= min(max(ymax, int(coordinates['@y'])), height);\n",
        "                        label_str+= str(xmin)+' '+str(ymin)+' '+str(xmax)+' '+str(ymax)+' '+ val +' '\n",
        "                        \n",
        "            else:\n",
        "                text=anno[key]\n",
        "                xmin=width\n",
        "                ymin=height\n",
        "                xmax=0\n",
        "                ymax=0\n",
        "                if(text[\"Coords\"]):\n",
        "                    if(text[\"Coords\"][\"Point\"]):\n",
        "                        for k in range(len(text[\"Coords\"][\"Point\"])):\n",
        "                            coordinates=anno[key][\"Coords\"][\"Point\"][k]\n",
        "                            xmin= min(xmin, int(coordinates['@x']));\n",
        "                            ymin= min(ymin, int(coordinates['@y']));\n",
        "                            xmax= min(max(xmax, int(coordinates['@x'])), width);\n",
        "                            ymax= min(max(ymax, int(coordinates['@y'])), height);  \n",
        "                        label_str+= str(xmin)+' '+str(ymin)+' '+str(xmax)+' '+str(ymax)+' '+val+' '\n",
        "                        \n",
        "    \n",
        "    label_str=label_str[:-1]\n",
        "    combined.append([fname, label_str])\n",
        "\n",
        "        "
      ],
      "execution_count": 11,
      "outputs": [
        {
          "output_type": "display_data",
          "data": {
            "application/vnd.jupyter.widget-view+json": {
              "model_id": "fdd59876872d4aa7939feb4d57e67e5f",
              "version_minor": 0,
              "version_major": 2
            },
            "text/plain": [
              "HBox(children=(FloatProgress(value=0.0, max=478.0), HTML(value='')))"
            ]
          },
          "metadata": {
            "tags": []
          }
        },
        {
          "output_type": "stream",
          "text": [
            "[OrderedDict([('@id', 'r3'), ('@orientation', '0.00000'), ('@colour', 'black'), ('Coords', OrderedDict([('Point', [OrderedDict([('@x', '107'), ('@y', '473')]), OrderedDict([('@x', '598'), ('@y', '473')]), OrderedDict([('@x', '564'), ('@y', '473')]), OrderedDict([('@x', '564'), ('@y', '474')]), OrderedDict([('@x', '225'), ('@y', '474')]), OrderedDict([('@x', '225'), ('@y', '473')])])]))]), OrderedDict([('@id', 'r21'), ('@orientation', '0.00000'), ('@colour', 'black'), ('Coords', OrderedDict([('Point', [OrderedDict([('@x', '2253'), ('@y', '0')]), OrderedDict([('@x', '2253'), ('@y', '49')]), OrderedDict([('@x', '2252'), ('@y', '49')]), OrderedDict([('@x', '2252'), ('@y', '98')]), OrderedDict([('@x', '2252'), ('@y', '97')]), OrderedDict([('@x', '1177'), ('@y', '97')]), OrderedDict([('@x', '1177'), ('@y', '96')]), OrderedDict([('@x', '102'), ('@y', '96')]), OrderedDict([('@x', '102'), ('@y', '102')]), OrderedDict([('@x', '2254'), ('@y', '102')]), OrderedDict([('@x', '2253'), ('@y', '102')]), OrderedDict([('@x', '2253'), ('@y', '585')]), OrderedDict([('@x', '2252'), ('@y', '585')]), OrderedDict([('@x', '2252'), ('@y', '1069')]), OrderedDict([('@x', '2251'), ('@y', '1069')]), OrderedDict([('@x', '2251'), ('@y', '1553')]), OrderedDict([('@x', '2250'), ('@y', '1553')]), OrderedDict([('@x', '2250'), ('@y', '2036')]), OrderedDict([('@x', '2249'), ('@y', '2036')]), OrderedDict([('@x', '2249'), ('@y', '2520')]), OrderedDict([('@x', '2248'), ('@y', '2520')]), OrderedDict([('@x', '2248'), ('@y', '3004')]), OrderedDict([('@x', '1175'), ('@y', '3004')]), OrderedDict([('@x', '1175'), ('@y', '3005')]), OrderedDict([('@x', '102'), ('@y', '3005')]), OrderedDict([('@x', '102'), ('@y', '3011')]), OrderedDict([('@x', '1176'), ('@y', '3011')]), OrderedDict([('@x', '1176'), ('@y', '3012')]), OrderedDict([('@x', '2250'), ('@y', '3012')]), OrderedDict([('@x', '2249'), ('@y', '3012')]), OrderedDict([('@x', '2249'), ('@y', '3043')]), OrderedDict([('@x', '2248'), ('@y', '3043')]), OrderedDict([('@x', '2248'), ('@y', '3075')]), OrderedDict([('@x', '2247'), ('@y', '3075')]), OrderedDict([('@x', '2247'), ('@y', '3106')]), OrderedDict([('@x', '2246'), ('@y', '3106')]), OrderedDict([('@x', '2246'), ('@y', '3138')]), OrderedDict([('@x', '2255'), ('@y', '3138')]), OrderedDict([('@x', '2255'), ('@y', '1569')]), OrderedDict([('@x', '2256'), ('@y', '1569')]), OrderedDict([('@x', '2256'), ('@y', '0')])])]))]), OrderedDict([('@id', 'r23'), ('@orientation', '0.00000'), ('@colour', 'black'), ('Coords', OrderedDict([('Point', [OrderedDict([('@x', '833'), ('@y', '1690')]), OrderedDict([('@x', '2227'), ('@y', '1690')]), OrderedDict([('@x', '2227'), ('@y', '1691')]), OrderedDict([('@x', '1438'), ('@y', '1691')]), OrderedDict([('@x', '1438'), ('@y', '1692')]), OrderedDict([('@x', '833'), ('@y', '1692')])])]))]), OrderedDict([('@id', 'r24'), ('@orientation', '90.00000'), ('@colour', 'black'), ('Coords', OrderedDict([('Point', [OrderedDict([('@x', '1530'), ('@y', '2520')]), OrderedDict([('@x', '1531'), ('@y', '2520')]), OrderedDict([('@x', '1531'), ('@y', '1895')]), OrderedDict([('@x', '1531'), ('@y', '2983')]), OrderedDict([('@x', '1532'), ('@y', '2983')]), OrderedDict([('@x', '1532'), ('@y', '1728')]), OrderedDict([('@x', '1532'), ('@y', '1894')]), OrderedDict([('@x', '1532'), ('@y', '1728')]), OrderedDict([('@x', '1531'), ('@y', '1728')]), OrderedDict([('@x', '1531'), ('@y', '2983')]), OrderedDict([('@x', '1530'), ('@y', '2983')])])]))]), OrderedDict([('@id', 'r25'), ('@orientation', '90.00000'), ('@colour', 'black'), ('Coords', OrderedDict([('Point', [OrderedDict([('@x', '807'), ('@y', '1565')]), OrderedDict([('@x', '808'), ('@y', '1565')]), OrderedDict([('@x', '808'), ('@y', '1270')]), OrderedDict([('@x', '808'), ('@y', '1565')]), OrderedDict([('@x', '809'), ('@y', '1565')]), OrderedDict([('@x', '809'), ('@y', '823')]), OrderedDict([('@x', '809'), ('@y', '2519')]), OrderedDict([('@x', '808'), ('@y', '2519')]), OrderedDict([('@x', '808'), ('@y', '2983')]), OrderedDict([('@x', '807'), ('@y', '2983')])])]))])]\n",
            "\n"
          ],
          "name": "stdout"
        }
      ]
    },
    {
      "cell_type": "markdown",
      "metadata": {
        "id": "cMrx_relThFe"
      },
      "source": [
        "4. **Save** the lables in a **CSV** file"
      ]
    },
    {
      "cell_type": "code",
      "metadata": {
        "id": "zDmm-Oi8TuvL"
      },
      "source": [
        "df = pd.DataFrame(combined, columns = ['ID', 'Label']);\n",
        "df.to_csv(jpg_dir + \"/train_labels.csv\", index=False);"
      ],
      "execution_count": 12,
      "outputs": []
    },
    {
      "cell_type": "markdown",
      "metadata": {
        "id": "7AymUxOqVgrV"
      },
      "source": [
        "5. **Convert** the CSV file to **YOLO** files"
      ]
    },
    {
      "cell_type": "code",
      "metadata": {
        "id": "S8gF48wOdXoT",
        "colab": {
          "base_uri": "https://localhost:8080/",
          "height": 66,
          "referenced_widgets": [
            "035a0ace5600488eb353be583e0ec126",
            "9dd280c9bd604bc283c6221da693ba08",
            "8e373674254f492fbb86b4108fa9f00a",
            "df1ef268569e4502b4d20afbcb661f33",
            "96d6d700422b4dbfad973a2ff8679160",
            "c29a4ef698594a598fd2a4d49aeb2c3b",
            "9cdb43cc57b24f2ca1aa212d2530c161",
            "b39b340ba17b40ebaef8bf818b7249cf"
          ]
        },
        "outputId": "ade24908-c476-4478-db5c-e4ce2246de66"
      },
      "source": [
        "import pandas as pd\n",
        "\n",
        "\n",
        "jpg_dir=\"PRImA Layout Analysis Dataset_JPG_v1/\";\n",
        "jpg_dir_image = \"Images/\";\n",
        "anno_file = \"PRImA Layout Analysis Dataset_JPG_v1/train_labels.csv\";\n",
        "labels_dir = \"labels/\";\n",
        "classes_file = \"classes.txt\";\n",
        "\n",
        "\n",
        "labels_dir_all = jpg_dir + labels_dir\n",
        "if(not os.path.isdir(labels_dir_all)):\n",
        "    os.mkdir(labels_dir_all);\n",
        "\n",
        "\n",
        "\n",
        "df = pd.read_csv( anno_file);\n",
        "len(df)\n",
        "\n",
        "\n",
        "columns = df.columns\n",
        "classes = [];\n",
        "for i in range(len(df)):\n",
        "    img_file = df[columns[0]][i];\n",
        "    labels = df[columns[1]][i];\n",
        "    tmp = labels.split(\" \");\n",
        "    for j in range(len(tmp)//5):\n",
        "        label = tmp[j*5 + 4];\n",
        "        if(label not in classes):\n",
        "            classes.append(label);\n",
        "classes = sorted(classes)\n",
        "classes\n",
        "\n",
        "f = open(jpg_dir + classes_file, 'w');\n",
        "for i in range(len(classes)):\n",
        "    f.write(classes[i]);\n",
        "    f.write(\"\\n\");\n",
        "f.close();\n",
        "\n",
        "\n",
        "for i in tqdm(range(len(df))):\n",
        "    img_file = df[columns[0]][i];\n",
        "    labels = df[columns[1]][i];\n",
        "    tmp = labels.split(\" \");\n",
        "    fname = labels_dir_all  + img_file.split(\".\")[0] + \".txt\";\n",
        "    img = Image.open(jpg_dir  + jpg_dir_image  + img_file);\n",
        "    width, height = img.size\n",
        "    \n",
        "    f = open(fname, 'w');\n",
        "    for j in range(len(tmp)//5):\n",
        "        x1 = float(tmp[j*5 + 0]);\n",
        "        y1 = float(tmp[j*5 + 1]);\n",
        "        x2 = float(tmp[j*5 + 2]);\n",
        "        y2 = float(tmp[j*5 + 3]);\n",
        "        label = tmp[j*5 + 4];\n",
        "        \n",
        "        x_c = str(((x1 + x2)/2)/width);\n",
        "        y_c = str(((y1 + y2)/2)/height);\n",
        "        w = str((x2 - x1)/width);\n",
        "        h = str((y2 - y1)/height);\n",
        "        index = str(classes.index(label));\n",
        "        \n",
        "        f.write(index + \" \" + x_c + \" \" + y_c + \" \" + w + \" \" + h);\n",
        "        f.write(\"\\n\");\n",
        "    f.close();"
      ],
      "execution_count": 13,
      "outputs": [
        {
          "output_type": "display_data",
          "data": {
            "application/vnd.jupyter.widget-view+json": {
              "model_id": "035a0ace5600488eb353be583e0ec126",
              "version_minor": 0,
              "version_major": 2
            },
            "text/plain": [
              "HBox(children=(FloatProgress(value=0.0, max=478.0), HTML(value='')))"
            ]
          },
          "metadata": {
            "tags": []
          }
        },
        {
          "output_type": "stream",
          "text": [
            "\n"
          ],
          "name": "stdout"
        }
      ]
    },
    {
      "cell_type": "markdown",
      "metadata": {
        "id": "rSj5kNWpstAK"
      },
      "source": [
        "# Model Building "
      ]
    },
    {
      "cell_type": "markdown",
      "metadata": {
        "id": "Wn7_vgUFs8Mv"
      },
      "source": [
        "1. **Import** all necessary classes"
      ]
    },
    {
      "cell_type": "code",
      "metadata": {
        "id": "MxQsDu88tLLO"
      },
      "source": [
        "import os\n",
        "import sys\n",
        "sys.path.append(\"document_layout_segmentation/yolov3/lib\")\n",
        "from train_detector import Detector\n",
        "detect_image = Detector();"
      ],
      "execution_count": 14,
      "outputs": []
    },
    {
      "cell_type": "markdown",
      "metadata": {
        "id": "TdlM_e6Vtf6P"
      },
      "source": [
        "2. **Load** all necessary directory"
      ]
    },
    {
      "cell_type": "code",
      "metadata": {
        "id": "xdj5DEPBtevv"
      },
      "source": [
        "#dataset directories\n",
        "img_dir = \"PRImA Layout Analysis Dataset_JPG_v1/Images/\"\n",
        "label_dir = \"PRImA Layout Analysis Dataset_JPG_v1/labels/\"\n",
        "class_list_file = \"PRImA Layout Analysis Dataset_JPG_v1/classes.txt\""
      ],
      "execution_count": 15,
      "outputs": []
    },
    {
      "cell_type": "markdown",
      "metadata": {
        "id": "Tp78bx07wk41"
      },
      "source": [
        "3. **Start** learning process"
      ]
    },
    {
      "cell_type": "code",
      "metadata": {
        "id": "TXy5rgO0wrP_",
        "colab": {
          "base_uri": "https://localhost:8080/"
        },
        "outputId": "255eb272-4531-4542-f86d-f2d2ee716a0c"
      },
      "source": [
        "detect_image.set_model(model_name=\"yolov3\");\n",
        "detect_image.set_train_dataset(img_dir, label_dir, class_list_file, batch_size=16)\n",
        "detect_image.set_val_dataset(img_dir, label_dir)\n",
        "detect_image.set_hyperparams(optimizer=\"sgd\", lr=0.003, multi_scale=False, evolve=False);\n",
        "detect_image.Train(num_epochs=30);"
      ],
      "execution_count": null,
      "outputs": [
        {
          "output_type": "stream",
          "text": [
            "Using CUDA Apex device0 _CudaDeviceProperties(name='Tesla T4', total_memory=15079MB)\n",
            "\n"
          ],
          "name": "stdout"
        },
        {
          "output_type": "stream",
          "text": [
            "\n",
            "Caching labels (478 found, 0 missing, 0 empty, 1 duplicate, for 478 images): 100%|██████████| 478/478 [00:00<00:00, 5363.55it/s]\n",
            "\n",
            "Caching labels (478 found, 0 missing, 0 empty, 1 duplicate, for 478 images): 100%|██████████| 478/478 [00:00<00:00, 4867.96it/s]\n"
          ],
          "name": "stderr"
        },
        {
          "output_type": "stream",
          "text": [
            "Model Summary: 222 layers, 6.16153e+07 parameters, 6.16153e+07 gradients\n",
            "Using 2 dataloader workers\n",
            "Starting training for 30 epochs...\n",
            "\n",
            "     Epoch   gpu_mem      GIoU       obj       cls     total   targets  img_size\n"
          ],
          "name": "stdout"
        },
        {
          "output_type": "stream",
          "text": [
            "\n",
            "  0%|          | 0/30 [00:00<?, ?it/s]\u001b[A/usr/local/lib/python3.6/dist-packages/torch/cuda/memory.py:346: FutureWarning: torch.cuda.memory_cached has been renamed to torch.cuda.memory_reserved\n",
            "  FutureWarning)\n",
            "\n",
            "      0/29      4.8G      8.07      17.6        32      57.6       312       416:   0%|          | 0/30 [00:21<?, ?it/s]\u001b[A\n",
            "      0/29      4.8G      8.07      17.6        32      57.6       312       416:   3%|▎         | 1/30 [00:21<10:25, 21.56s/it]\u001b[A\n",
            "      0/29     4.81G      8.06      17.5      31.8      57.4       309       416:   3%|▎         | 1/30 [00:22<10:25, 21.56s/it]\u001b[A\n",
            "      0/29     4.81G      8.06      17.5      31.8      57.4       309       416:   7%|▋         | 2/30 [00:22<07:07, 15.26s/it]\u001b[A\n",
            "      0/29     4.82G      8.12      19.2      31.8      59.1       422       416:   7%|▋         | 2/30 [00:30<07:07, 15.26s/it]\u001b[A\n",
            "      0/29     4.82G      8.12      19.2      31.8      59.1       422       416:  10%|█         | 3/30 [00:30<05:58, 13.29s/it]\u001b[A\n",
            "      0/29     4.82G      8.15      19.7      31.8      59.7       411       416:  10%|█         | 3/30 [00:31<05:58, 13.29s/it]\u001b[A\n",
            "      0/29     4.82G      8.15      19.7      31.8      59.7       411       416:  13%|█▎        | 4/30 [00:31<04:05,  9.45s/it]\u001b[A\n",
            "      0/29     4.82G      8.16      19.9      31.8      59.9       382       416:  13%|█▎        | 4/30 [00:43<04:05,  9.45s/it]\u001b[A\n",
            "      0/29     4.82G      8.16      19.9      31.8      59.9       382       416:  17%|█▋        | 5/30 [00:43<04:19, 10.40s/it]\u001b[A\n",
            "      0/29     4.82G      8.09      19.6      31.8      59.5       304       416:  17%|█▋        | 5/30 [00:44<04:19, 10.40s/it]\u001b[A\n",
            "      0/29     4.82G      8.09      19.6      31.8      59.5       304       416:  20%|██        | 6/30 [00:44<02:58,  7.43s/it]\u001b[A\n",
            "      0/29     4.82G      8.07      20.1      31.8        60       402       416:  20%|██        | 6/30 [00:57<02:58,  7.43s/it]\u001b[A\n",
            "      0/29     4.82G      8.07      20.1      31.8        60       402       416:  23%|██▎       | 7/30 [00:57<03:30,  9.17s/it]\u001b[A\n",
            "      0/29     4.82G      8.07        20      31.8      59.9       345       416:  23%|██▎       | 7/30 [00:58<03:30,  9.17s/it]\u001b[A\n",
            "      0/29     4.82G      8.07        20      31.8      59.9       345       416:  27%|██▋       | 8/30 [00:58<02:24,  6.56s/it]\u001b[A\n",
            "      0/29     4.82G      8.08      20.1      31.8        60       378       416:  27%|██▋       | 8/30 [01:11<02:24,  6.56s/it]\u001b[A\n",
            "      0/29     4.82G      8.08      20.1      31.8        60       378       416:  30%|███       | 9/30 [01:11<02:59,  8.55s/it]\u001b[A\n",
            "      0/29     4.82G       8.1        20      31.8      59.9       372       416:  30%|███       | 9/30 [01:11<02:59,  8.55s/it]\u001b[A\n",
            "      0/29     4.82G       8.1        20      31.8      59.9       372       416:  33%|███▎      | 10/30 [01:11<02:02,  6.14s/it]\u001b[A\n",
            "      0/29     4.82G      8.08      20.1      31.8        60       397       416:  33%|███▎      | 10/30 [01:24<02:02,  6.14s/it]\u001b[A\n",
            "      0/29     4.82G      8.08      20.1      31.8        60       397       416:  37%|███▋      | 11/30 [01:24<02:34,  8.15s/it]\u001b[A\n",
            "      0/29     4.82G      8.07      20.5      31.8      60.4       447       416:  37%|███▋      | 11/30 [01:25<02:34,  8.15s/it]\u001b[A\n",
            "      0/29     4.82G      8.07      20.5      31.8      60.4       447       416:  40%|████      | 12/30 [01:25<01:45,  5.84s/it]\u001b[A\n",
            "      0/29     4.82G      8.07      20.4      31.8      60.3       341       416:  40%|████      | 12/30 [01:38<01:45,  5.84s/it]\u001b[A\n",
            "      0/29     4.82G      8.07      20.4      31.8      60.3       341       416:  43%|████▎     | 13/30 [01:38<02:16,  8.03s/it]\u001b[A\n",
            "      0/29     4.82G      8.07      20.5      31.8      60.4       399       416:  43%|████▎     | 13/30 [01:38<02:16,  8.03s/it]\u001b[A\n",
            "      0/29     4.82G      8.07      20.5      31.8      60.4       399       416:  47%|████▋     | 14/30 [01:38<01:32,  5.76s/it]\u001b[A\n",
            "      0/29     4.82G      8.07      20.4      31.8      60.3       365       416:  47%|████▋     | 14/30 [01:51<01:32,  5.76s/it]\u001b[A\n",
            "      0/29     4.82G      8.07      20.4      31.8      60.3       365       416:  50%|█████     | 15/30 [01:51<01:56,  7.79s/it]\u001b[A\n",
            "      0/29     4.82G      8.08      20.4      31.8      60.3       389       416:  50%|█████     | 15/30 [01:51<01:56,  7.79s/it]\u001b[A\n",
            "      0/29     4.82G      8.08      20.4      31.8      60.3       389       416:  53%|█████▎    | 16/30 [01:51<01:18,  5.59s/it]\u001b[A\n",
            "      0/29     4.82G      8.07      20.4      31.8      60.3       351       416:  53%|█████▎    | 16/30 [02:04<01:18,  5.59s/it]\u001b[A\n",
            "      0/29     4.82G      8.07      20.4      31.8      60.3       351       416:  57%|█████▋    | 17/30 [02:04<01:40,  7.70s/it]\u001b[A\n",
            "      0/29     4.82G      8.06      20.4      31.8      60.3       383       416:  57%|█████▋    | 17/30 [02:04<01:40,  7.70s/it]\u001b[A\n",
            "      0/29     4.82G      8.06      20.4      31.8      60.3       383       416:  60%|██████    | 18/30 [02:04<01:06,  5.54s/it]\u001b[A\n",
            "      0/29     4.82G      8.06      20.5      31.8      60.4       395       416:  60%|██████    | 18/30 [02:17<01:06,  5.54s/it]\u001b[A\n",
            "      0/29     4.82G      8.06      20.5      31.8      60.4       395       416:  63%|██████▎   | 19/30 [02:17<01:24,  7.71s/it]\u001b[A\n",
            "      0/29     4.82G      8.07      20.4      31.8      60.3       350       416:  63%|██████▎   | 19/30 [02:18<01:24,  7.71s/it]\u001b[A\n",
            "      0/29     4.82G      8.07      20.4      31.8      60.3       350       416:  67%|██████▋   | 20/30 [02:18<00:55,  5.54s/it]\u001b[A\n",
            "      0/29     4.82G      8.07      20.5      31.8      60.4       409       416:  67%|██████▋   | 20/30 [02:30<00:55,  5.54s/it]\u001b[A\n",
            "      0/29     4.82G      8.07      20.5      31.8      60.4       409       416:  70%|███████   | 21/30 [02:30<01:09,  7.74s/it]\u001b[A\n",
            "      0/29     4.82G      8.07      20.5      31.8      60.4       345       416:  70%|███████   | 21/30 [02:31<01:09,  7.74s/it]\u001b[A\n",
            "      0/29     4.82G      8.07      20.5      31.8      60.4       345       416:  73%|███████▎  | 22/30 [02:31<00:44,  5.58s/it]\u001b[A\n",
            "      0/29     4.82G      8.07      20.5      31.8      60.4       355       416:  73%|███████▎  | 22/30 [02:45<00:44,  5.58s/it]\u001b[A\n",
            "      0/29     4.82G      8.07      20.5      31.8      60.4       355       416:  77%|███████▋  | 23/30 [02:45<00:56,  8.03s/it]\u001b[A\n",
            "      0/29     4.82G      8.07      20.3      31.8      60.3       311       416:  77%|███████▋  | 23/30 [02:45<00:56,  8.03s/it]\u001b[A\n",
            "      0/29     4.82G      8.07      20.3      31.8      60.3       311       416:  80%|████████  | 24/30 [02:45<00:34,  5.78s/it]\u001b[A\n",
            "      0/29     4.82G      8.06      20.3      31.8      60.2       355       416:  80%|████████  | 24/30 [02:58<00:34,  5.78s/it]\u001b[A\n",
            "      0/29     4.82G      8.06      20.3      31.8      60.2       355       416:  83%|████████▎ | 25/30 [02:58<00:38,  7.77s/it]\u001b[A\n",
            "      0/29     4.82G      8.07      20.3      31.8      60.2       387       416:  83%|████████▎ | 25/30 [02:58<00:38,  7.77s/it]\u001b[A\n",
            "      0/29     4.82G      8.07      20.3      31.8      60.2       387       416:  87%|████████▋ | 26/30 [02:58<00:22,  5.59s/it]\u001b[A\n",
            "      0/29     4.82G      8.07      20.3      31.8      60.2       385       416:  87%|████████▋ | 26/30 [03:11<00:22,  5.59s/it]\u001b[A\n",
            "      0/29     4.82G      8.07      20.3      31.8      60.2       385       416:  90%|█████████ | 27/30 [03:11<00:23,  7.72s/it]\u001b[A\n",
            "      0/29     4.82G      8.07      20.3      31.8      60.2       397       416:  90%|█████████ | 27/30 [03:11<00:23,  7.72s/it]\u001b[A\n",
            "      0/29     4.82G      8.07      20.3      31.8      60.2       397       416:  93%|█████████▎| 28/30 [03:11<00:11,  5.56s/it]\u001b[A\n",
            "      0/29     4.82G      8.07      20.3      31.8      60.2       379       416:  93%|█████████▎| 28/30 [03:23<00:11,  5.56s/it]\u001b[A\n",
            "      0/29     4.82G      8.07      20.3      31.8      60.2       379       416:  97%|█████████▋| 29/30 [03:23<00:07,  7.29s/it]\u001b[A\n",
            "      0/29     4.82G      8.07      20.4      31.9      60.3       369       416:  97%|█████████▋| 29/30 [03:23<00:07,  7.29s/it]\u001b[A\n",
            "      0/29     4.82G      8.07      20.4      31.9      60.3       369       416: 100%|██████████| 30/30 [03:23<00:00,  6.79s/it]\n",
            "\n",
            "               Class    Images   Targets         P         R   mAP@0.5        F1:   0%|          | 0/15 [00:00<?, ?it/s]\u001b[A\n",
            "               Class    Images   Targets         P         R   mAP@0.5        F1:   7%|▋         | 1/15 [00:13<03:10, 13.60s/it]\u001b[A\n",
            "               Class    Images   Targets         P         R   mAP@0.5        F1:  13%|█▎        | 2/15 [00:13<02:04,  9.61s/it]\u001b[A\n",
            "               Class    Images   Targets         P         R   mAP@0.5        F1:  20%|██        | 3/15 [00:18<01:35,  7.97s/it]\u001b[A\n",
            "               Class    Images   Targets         P         R   mAP@0.5        F1:  27%|██▋       | 4/15 [00:18<01:02,  5.67s/it]\u001b[A\n",
            "               Class    Images   Targets         P         R   mAP@0.5        F1:  33%|███▎      | 5/15 [00:25<01:02,  6.27s/it]\u001b[A\n",
            "               Class    Images   Targets         P         R   mAP@0.5        F1:  40%|████      | 6/15 [00:26<00:40,  4.47s/it]\u001b[A\n",
            "               Class    Images   Targets         P         R   mAP@0.5        F1:  47%|████▋     | 7/15 [00:33<00:42,  5.32s/it]\u001b[A\n",
            "               Class    Images   Targets         P         R   mAP@0.5        F1:  53%|█████▎    | 8/15 [00:33<00:26,  3.81s/it]\u001b[A\n",
            "               Class    Images   Targets         P         R   mAP@0.5        F1:  60%|██████    | 9/15 [00:41<00:30,  5.06s/it]\u001b[A\n",
            "               Class    Images   Targets         P         R   mAP@0.5        F1:  67%|██████▋   | 10/15 [00:42<00:19,  3.81s/it]\u001b[A\n",
            "               Class    Images   Targets         P         R   mAP@0.5        F1:  73%|███████▎  | 11/15 [00:49<00:18,  4.72s/it]\u001b[A\n",
            "               Class    Images   Targets         P         R   mAP@0.5        F1:  80%|████████  | 12/15 [00:50<00:11,  3.68s/it]\u001b[A\n",
            "               Class    Images   Targets         P         R   mAP@0.5        F1:  87%|████████▋ | 13/15 [00:57<00:09,  4.64s/it]\u001b[A\n",
            "               Class    Images   Targets         P         R   mAP@0.5        F1:  93%|█████████▎| 14/15 [00:59<00:03,  3.66s/it]\u001b[A\n",
            "               Class    Images   Targets         P         R   mAP@0.5        F1: 100%|██████████| 15/15 [01:03<00:00,  4.26s/it]\n",
            "/usr/local/lib/python3.6/dist-packages/torch/optim/lr_scheduler.py:127: UserWarning: Seems like `optimizer.step()` has been overridden after learning rate scheduler initialization. Please, make sure to call `optimizer.step()` before `lr_scheduler.step()`. See more details at https://pytorch.org/docs/stable/optim.html#how-to-adjust-learning-rate\n",
            "  \"https://pytorch.org/docs/stable/optim.html#how-to-adjust-learning-rate\", UserWarning)\n"
          ],
          "name": "stderr"
        },
        {
          "output_type": "stream",
          "text": [
            "                 all       478  1.04e+04         0         0         0         0\n",
            "\n",
            "     Epoch   gpu_mem      GIoU       obj       cls     total   targets  img_size\n"
          ],
          "name": "stdout"
        },
        {
          "output_type": "stream",
          "text": [
            "\n",
            "  0%|          | 0/30 [00:00<?, ?it/s]\u001b[A/usr/local/lib/python3.6/dist-packages/torch/cuda/memory.py:346: FutureWarning: torch.cuda.memory_cached has been renamed to torch.cuda.memory_reserved\n",
            "  FutureWarning)\n",
            "\n",
            "      1/29     6.15G      8.02      21.6      31.8      61.5       395       416:   0%|          | 0/30 [00:13<?, ?it/s]\u001b[A\n",
            "      1/29     6.15G      8.02      21.6      31.8      61.5       395       416:   3%|▎         | 1/30 [00:13<06:38, 13.75s/it]\u001b[A\n",
            "      1/29     6.15G      8.14        21      31.7      60.8       376       416:   3%|▎         | 1/30 [00:14<06:38, 13.75s/it]\u001b[A\n",
            "      1/29     6.15G      8.14        21      31.7      60.8       376       416:   7%|▋         | 2/30 [00:14<04:33,  9.76s/it]\u001b[A\n",
            "      1/29     6.15G      8.09      20.6      31.7      60.4       358       416:   7%|▋         | 2/30 [00:27<04:33,  9.76s/it]\u001b[A\n",
            "      1/29     6.15G      8.09      20.6      31.7      60.4       358       416:  10%|█         | 3/30 [00:27<04:49, 10.71s/it]\u001b[A\n",
            "      1/29     6.16G      8.13      19.8        30        58       332       416:  10%|█         | 3/30 [00:27<04:49, 10.71s/it]\u001b[A\n",
            "      1/29     6.16G      8.13      19.8        30        58       332       416:  13%|█▎        | 4/30 [00:27<03:18,  7.63s/it]\u001b[A\n",
            "      1/29     6.16G      8.08      19.8      29.1        57       372       416:  13%|█▎        | 4/30 [00:40<03:18,  7.63s/it]\u001b[A\n",
            "      1/29     6.16G      8.08      19.8      29.1        57       372       416:  17%|█▋        | 5/30 [00:40<03:48,  9.14s/it]\u001b[A\n",
            "      1/29     6.16G      8.12      19.9      28.3      56.3       397       416:  17%|█▋        | 5/30 [00:40<03:48,  9.14s/it]\u001b[A\n",
            "      1/29     6.16G      8.12      19.9      28.3      56.3       397       416:  20%|██        | 6/30 [00:40<02:36,  6.54s/it]\u001b[A\n",
            "      1/29     6.16G      8.12      19.8      27.8      55.7       373       416:  20%|██        | 6/30 [00:53<02:36,  6.54s/it]\u001b[A\n",
            "      1/29     6.16G      8.12      19.8      27.8      55.7       373       416:  23%|██▎       | 7/30 [00:53<03:12,  8.39s/it]\u001b[A\n",
            "      1/29     6.16G      8.12      19.4      27.5        55       309       416:  23%|██▎       | 7/30 [00:54<03:12,  8.39s/it]\u001b[A\n",
            "      1/29     6.16G      8.12      19.4      27.5        55       309       416:  27%|██▋       | 8/30 [00:54<02:14,  6.11s/it]\u001b[A\n",
            "      1/29     6.16G      8.15      19.6      27.2      54.9       438       416:  27%|██▋       | 8/30 [01:06<02:14,  6.11s/it]\u001b[A\n",
            "      1/29     6.16G      8.15      19.6      27.2      54.9       438       416:  30%|███       | 9/30 [01:06<02:49,  8.09s/it]\u001b[A\n",
            "      1/29     6.16G      8.15      19.7        27      54.8       403       416:  30%|███       | 9/30 [01:07<02:49,  8.09s/it]\u001b[A\n",
            "      1/29     6.16G      8.15      19.7        27      54.8       403       416:  33%|███▎      | 10/30 [01:07<01:56,  5.81s/it]\u001b[A\n",
            "      1/29     6.16G      8.18      19.9      26.8      54.9       454       416:  33%|███▎      | 10/30 [01:19<01:56,  5.81s/it]\u001b[A\n",
            "      1/29     6.16G      8.18      19.9      26.8      54.9       454       416:  37%|███▋      | 11/30 [01:19<02:27,  7.77s/it]\u001b[A\n",
            "      1/29     6.16G      8.19      19.8      26.6      54.6       375       416:  37%|███▋      | 11/30 [01:20<02:27,  7.77s/it]\u001b[A\n",
            "      1/29     6.16G      8.19      19.8      26.6      54.6       375       416:  40%|████      | 12/30 [01:20<01:41,  5.61s/it]\u001b[A\n",
            "      1/29     6.16G      8.17      19.8      26.4      54.4       382       416:  40%|████      | 12/30 [01:33<01:41,  5.61s/it]\u001b[A\n",
            "      1/29     6.16G      8.17      19.8      26.4      54.4       382       416:  43%|████▎     | 13/30 [01:33<02:12,  7.79s/it]\u001b[A\n",
            "      1/29     6.16G      8.17      19.7      26.3      54.2       397       416:  43%|████▎     | 13/30 [01:33<02:12,  7.79s/it]\u001b[A\n",
            "      1/29     6.16G      8.17      19.7      26.3      54.2       397       416:  47%|████▋     | 14/30 [01:33<01:29,  5.60s/it]\u001b[A\n",
            "      1/29     6.16G      8.19      19.7      26.2      54.1       402       416:  47%|████▋     | 14/30 [01:46<01:29,  5.60s/it]\u001b[A\n",
            "      1/29     6.16G      8.19      19.7      26.2      54.1       402       416:  50%|█████     | 15/30 [01:46<01:54,  7.63s/it]\u001b[A\n",
            "      1/29     6.16G      8.19      19.8      26.1      54.1       401       416:  50%|█████     | 15/30 [01:47<01:54,  7.63s/it]\u001b[A\n",
            "      1/29     6.16G      8.19      19.8      26.1      54.1       401       416:  53%|█████▎    | 16/30 [01:47<01:18,  5.63s/it]\u001b[A"
          ],
          "name": "stderr"
        }
      ]
    }
  ]
}